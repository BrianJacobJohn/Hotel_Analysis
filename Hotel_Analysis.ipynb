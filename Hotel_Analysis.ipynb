{
 "cells": [
  {
   "cell_type": "markdown",
   "id": "b40448b7",
   "metadata": {},
   "source": [
    "# $\\underline{\\text{Hotel Analysis}}$"
   ]
  },
  {
   "cell_type": "markdown",
   "id": "a68242ff",
   "metadata": {},
   "source": [
    "## Importing Data via KaggleHub"
   ]
  },
  {
   "cell_type": "code",
   "execution_count": 1,
   "id": "a832eb8a",
   "metadata": {},
   "outputs": [
    {
     "name": "stderr",
     "output_type": "stream",
     "text": [
      "/Users/hyp3dag.o.a.t/Desktop/Hotels_DS/.venv/lib/python3.13/site-packages/tqdm/auto.py:21: TqdmWarning: IProgress not found. Please update jupyter and ipywidgets. See https://ipywidgets.readthedocs.io/en/stable/user_install.html\n",
      "  from .autonotebook import tqdm as notebook_tqdm\n"
     ]
    }
   ],
   "source": [
    "import kagglehub, numpy as np, pandas as pd, plotly.express as px"
   ]
  },
  {
   "cell_type": "code",
   "execution_count": null,
   "id": "c3fead63",
   "metadata": {},
   "outputs": [
    {
     "name": "stdout",
     "output_type": "stream",
     "text": [
      "Resuming download from 247463936 bytes (166494856 bytes left)...\n",
      "Resuming download from https://www.kaggle.com/api/v1/datasets/download/raj713335/tbo-hotels-dataset?dataset_version_number=1 (247463936/413958792) bytes left.\n"
     ]
    },
    {
     "name": "stderr",
     "output_type": "stream",
     "text": [
      " 88%|████████▊ | 349M/395M [05:23<01:42, 468kB/s]"
     ]
    }
   ],
   "source": [
    "# Download latest version\n",
    "path = kagglehub.dataset_download(\"raj713335/tbo-hotels-dataset\")\n",
    "\n",
    "print(\"Path to dataset files:\", path)"
   ]
  },
  {
   "cell_type": "code",
   "execution_count": null,
   "id": "8371399b",
   "metadata": {},
   "outputs": [],
   "source": []
  }
 ],
 "metadata": {
  "kernelspec": {
   "display_name": ".venv",
   "language": "python",
   "name": "python3"
  },
  "language_info": {
   "codemirror_mode": {
    "name": "ipython",
    "version": 3
   },
   "file_extension": ".py",
   "mimetype": "text/x-python",
   "name": "python",
   "nbconvert_exporter": "python",
   "pygments_lexer": "ipython3",
   "version": "3.13.2"
  }
 },
 "nbformat": 4,
 "nbformat_minor": 5
}
