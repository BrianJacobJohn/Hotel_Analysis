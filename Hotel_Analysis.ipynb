{
 "cells": [
  {
   "cell_type": "markdown",
   "id": "b40448b7",
   "metadata": {},
   "source": [
    "# $\\underline{\\text{Hotel Analysis}}$"
   ]
  },
  {
   "cell_type": "markdown",
   "id": "a68242ff",
   "metadata": {},
   "source": [
    "## Importing Data via KaggleHub"
   ]
  },
  {
   "cell_type": "code",
   "execution_count": null,
   "id": "a832eb8a",
   "metadata": {},
   "outputs": [],
   "source": [
    "%%capture\n",
    "# ! pip install -r requirements.txt  #uncomment to install all dependencies"
   ]
  },
  {
   "cell_type": "code",
   "execution_count": 6,
   "id": "307c2435",
   "metadata": {},
   "outputs": [],
   "source": [
    "%%capture\n",
    "\n",
    "import kagglehub\n",
    "# Download latest version\n",
    "path = kagglehub.dataset_download(\"raj713335/tbo-hotels-dataset\")\n",
    "print(\"Path to dataset files:\", path)"
   ]
  },
  {
   "cell_type": "markdown",
   "id": "8371399b",
   "metadata": {},
   "source": [
    "# Exploratory Data Analysis"
   ]
  },
  {
   "cell_type": "code",
   "execution_count": 7,
   "id": "916ba2ff",
   "metadata": {},
   "outputs": [],
   "source": [
    "import numpy as np, pandas as pd, plotly.express as px"
   ]
  },
  {
   "cell_type": "code",
   "execution_count": 10,
   "id": "bf223e48",
   "metadata": {},
   "outputs": [
    {
     "data": {
      "text/html": [
       "<div>\n",
       "<style scoped>\n",
       "    .dataframe tbody tr th:only-of-type {\n",
       "        vertical-align: middle;\n",
       "    }\n",
       "\n",
       "    .dataframe tbody tr th {\n",
       "        vertical-align: top;\n",
       "    }\n",
       "\n",
       "    .dataframe thead th {\n",
       "        text-align: right;\n",
       "    }\n",
       "</style>\n",
       "<table border=\"1\" class=\"dataframe\">\n",
       "  <thead>\n",
       "    <tr style=\"text-align: right;\">\n",
       "      <th></th>\n",
       "      <th>countyCode</th>\n",
       "      <th>countyName</th>\n",
       "      <th>cityCode</th>\n",
       "      <th>cityName</th>\n",
       "      <th>HotelCode</th>\n",
       "      <th>HotelName</th>\n",
       "      <th>HotelRating</th>\n",
       "      <th>Address</th>\n",
       "      <th>Attractions</th>\n",
       "      <th>Description</th>\n",
       "      <th>FaxNumber</th>\n",
       "      <th>HotelFacilities</th>\n",
       "      <th>Map</th>\n",
       "      <th>PhoneNumber</th>\n",
       "      <th>PinCode</th>\n",
       "      <th>HotelWebsiteUrl</th>\n",
       "    </tr>\n",
       "  </thead>\n",
       "  <tbody>\n",
       "    <tr>\n",
       "      <th>0</th>\n",
       "      <td>AL</td>\n",
       "      <td>Albania</td>\n",
       "      <td>106078</td>\n",
       "      <td>Albanien</td>\n",
       "      <td>1003300</td>\n",
       "      <td>De Paris Hotel</td>\n",
       "      <td>FourStar</td>\n",
       "      <td>Nr. 7 Brigada Viii Street Tirane</td>\n",
       "      <td>NaN</td>\n",
       "      <td>Hotel de Paris is a charming boutique hotel th...</td>\n",
       "      <td>42268822</td>\n",
       "      <td>Private parking Parking onsite Television in c...</td>\n",
       "      <td>41.32213|19.81665</td>\n",
       "      <td>00355 4226 5009</td>\n",
       "      <td>1000</td>\n",
       "      <td>https://www.booking.com/hotel/al/de-paris.html</td>\n",
       "    </tr>\n",
       "    <tr>\n",
       "      <th>1</th>\n",
       "      <td>AL</td>\n",
       "      <td>Albania</td>\n",
       "      <td>106078</td>\n",
       "      <td>Albanien</td>\n",
       "      <td>1003301</td>\n",
       "      <td>Hotel Green</td>\n",
       "      <td>FourStar</td>\n",
       "      <td>Rruga Kavajes. Kombinat Km 2. Vaqarr VaqarrTir...</td>\n",
       "      <td>NaN</td>\n",
       "      <td>Located in a suburb of Tirana, Hotel Green is ...</td>\n",
       "      <td>35548520058</td>\n",
       "      <td>airport pick up wifi available in all areas Ai...</td>\n",
       "      <td>41.30413|19.74703</td>\n",
       "      <td>+35548520057</td>\n",
       "      <td>1041</td>\n",
       "      <td>https://www.booking.com/hotel/al/hotel-green.html</td>\n",
       "    </tr>\n",
       "    <tr>\n",
       "      <th>2</th>\n",
       "      <td>AL</td>\n",
       "      <td>Albania</td>\n",
       "      <td>106078</td>\n",
       "      <td>Albanien</td>\n",
       "      <td>1003302</td>\n",
       "      <td>Theranda Hotel</td>\n",
       "      <td>ThreeStar</td>\n",
       "      <td>Rr. Andon Zako Cajupi Villa 6 &amp; 7 Villa 6 &amp; 7T...</td>\n",
       "      <td>NaN</td>\n",
       "      <td>Set in Tirana, 1.2 km from Skanderbeg Square, ...</td>\n",
       "      <td>00355 (0)42273689</td>\n",
       "      <td>face masks for guests available all plates  cu...</td>\n",
       "      <td>41.3216|19.81199</td>\n",
       "      <td>00355 (0)42273766</td>\n",
       "      <td>1019</td>\n",
       "      <td>https://www.booking.com/hotel/al/theranda.html</td>\n",
       "    </tr>\n",
       "    <tr>\n",
       "      <th>3</th>\n",
       "      <td>AL</td>\n",
       "      <td>Albania</td>\n",
       "      <td>106078</td>\n",
       "      <td>Albanien</td>\n",
       "      <td>1003303</td>\n",
       "      <td>Seven Hotel</td>\n",
       "      <td>ThreeStar</td>\n",
       "      <td>KAVAJA STREET, CLOSE TURKISH AMBASSY TIRANA</td>\n",
       "      <td>Skanderbeg Square: within 500 metre</td>\n",
       "      <td>This hotel enjoys an enviable setting in Tiran...</td>\n",
       "      <td>NaN</td>\n",
       "      <td>À la carte dinner Breakfast buffet Breakfast C...</td>\n",
       "      <td>41.328027|19.815052</td>\n",
       "      <td>NaN</td>\n",
       "      <td>1001</td>\n",
       "      <td>http://www.hotelseven-tirana.com/</td>\n",
       "    </tr>\n",
       "    <tr>\n",
       "      <th>4</th>\n",
       "      <td>AL</td>\n",
       "      <td>Albania</td>\n",
       "      <td>106078</td>\n",
       "      <td>Albanien</td>\n",
       "      <td>1003325</td>\n",
       "      <td>Viktoria</td>\n",
       "      <td>ThreeStar</td>\n",
       "      <td>Rruga E Elbasanit Km 4 Sauk SaukTirana</td>\n",
       "      <td>NaN</td>\n",
       "      <td>Located in a new residential area at the edge ...</td>\n",
       "      <td>+355695406986</td>\n",
       "      <td>internet services Ironing service Family rooms...</td>\n",
       "      <td>41.29125|19.85349</td>\n",
       "      <td>355 69 5406986</td>\n",
       "      <td>1000</td>\n",
       "      <td>https://www.booking.com/hotel/al/viktoria-sauk...</td>\n",
       "    </tr>\n",
       "  </tbody>\n",
       "</table>\n",
       "</div>"
      ],
      "text/plain": [
       "  countyCode  countyName   cityCode  cityName   HotelCode       HotelName  \\\n",
       "0         AL     Albania     106078  Albanien     1003300  De Paris Hotel   \n",
       "1         AL     Albania     106078  Albanien     1003301     Hotel Green   \n",
       "2         AL     Albania     106078  Albanien     1003302  Theranda Hotel   \n",
       "3         AL     Albania     106078  Albanien     1003303     Seven Hotel   \n",
       "4         AL     Albania     106078  Albanien     1003325        Viktoria   \n",
       "\n",
       "   HotelRating                                            Address  \\\n",
       "0     FourStar                  Nr. 7 Brigada Viii Street Tirane    \n",
       "1     FourStar  Rruga Kavajes. Kombinat Km 2. Vaqarr VaqarrTir...   \n",
       "2    ThreeStar  Rr. Andon Zako Cajupi Villa 6 & 7 Villa 6 & 7T...   \n",
       "3    ThreeStar       KAVAJA STREET, CLOSE TURKISH AMBASSY TIRANA    \n",
       "4    ThreeStar            Rruga E Elbasanit Km 4 Sauk SaukTirana    \n",
       "\n",
       "                            Attractions  \\\n",
       "0                                   NaN   \n",
       "1                                   NaN   \n",
       "2                                   NaN   \n",
       "3  Skanderbeg Square: within 500 metre    \n",
       "4                                   NaN   \n",
       "\n",
       "                                         Description          FaxNumber  \\\n",
       "0  Hotel de Paris is a charming boutique hotel th...           42268822   \n",
       "1  Located in a suburb of Tirana, Hotel Green is ...        35548520058   \n",
       "2  Set in Tirana, 1.2 km from Skanderbeg Square, ...  00355 (0)42273689   \n",
       "3  This hotel enjoys an enviable setting in Tiran...                NaN   \n",
       "4  Located in a new residential area at the edge ...      +355695406986   \n",
       "\n",
       "                                     HotelFacilities                  Map  \\\n",
       "0  Private parking Parking onsite Television in c...    41.32213|19.81665   \n",
       "1  airport pick up wifi available in all areas Ai...    41.30413|19.74703   \n",
       "2  face masks for guests available all plates  cu...     41.3216|19.81199   \n",
       "3  À la carte dinner Breakfast buffet Breakfast C...  41.328027|19.815052   \n",
       "4  internet services Ironing service Family rooms...    41.29125|19.85349   \n",
       "\n",
       "         PhoneNumber  PinCode  \\\n",
       "0    00355 4226 5009     1000   \n",
       "1       +35548520057     1041   \n",
       "2  00355 (0)42273766     1019   \n",
       "3                NaN     1001   \n",
       "4     355 69 5406986     1000   \n",
       "\n",
       "                                     HotelWebsiteUrl  \n",
       "0     https://www.booking.com/hotel/al/de-paris.html  \n",
       "1  https://www.booking.com/hotel/al/hotel-green.html  \n",
       "2     https://www.booking.com/hotel/al/theranda.html  \n",
       "3                  http://www.hotelseven-tirana.com/  \n",
       "4  https://www.booking.com/hotel/al/viktoria-sauk...  "
      ]
     },
     "execution_count": 10,
     "metadata": {},
     "output_type": "execute_result"
    }
   ],
   "source": [
    "hotel_dat = pd.read_csv(filepath_or_buffer='hotels.csv',encoding='windows-1252')\n",
    "hotel_dat.head()"
   ]
  },
  {
   "cell_type": "code",
   "execution_count": 12,
   "id": "e9b4e77b",
   "metadata": {},
   "outputs": [
    {
     "name": "stdout",
     "output_type": "stream",
     "text": [
      "<class 'pandas.core.frame.DataFrame'>\n",
      "RangeIndex: 1010033 entries, 0 to 1010032\n",
      "Data columns (total 16 columns):\n",
      " #   Column            Non-Null Count    Dtype \n",
      "---  ------            --------------    ----- \n",
      " 0   countyCode        1009121 non-null  object\n",
      " 1    countyName       1010033 non-null  object\n",
      " 2    cityCode         1010033 non-null  int64 \n",
      " 3    cityName         1010033 non-null  object\n",
      " 4    HotelCode        1010033 non-null  int64 \n",
      " 5    HotelName        1010033 non-null  object\n",
      " 6    HotelRating      1010033 non-null  object\n",
      " 7    Address          1009931 non-null  object\n",
      " 8    Attractions      484941 non-null   object\n",
      " 9    Description      963028 non-null   object\n",
      " 10   FaxNumber        449686 non-null   object\n",
      " 11   HotelFacilities  959655 non-null   object\n",
      " 12   Map              1009103 non-null  object\n",
      " 13   PhoneNumber      682896 non-null   object\n",
      " 14   PinCode          979054 non-null   object\n",
      " 15   HotelWebsiteUrl  759915 non-null   object\n",
      "dtypes: int64(2), object(14)\n",
      "memory usage: 123.3+ MB\n"
     ]
    }
   ],
   "source": [
    "hotel_dat.info()"
   ]
  },
  {
   "cell_type": "code",
   "execution_count": 18,
   "id": "d084b09e",
   "metadata": {},
   "outputs": [],
   "source": [
    "hotel_dat.drop(columns=[' HotelWebsiteUrl',' PinCode',' PhoneNumber',' FaxNumber'],inplace=True)"
   ]
  },
  {
   "cell_type": "code",
   "execution_count": null,
   "id": "f3b524fd",
   "metadata": {},
   "outputs": [],
   "source": [
    "# Annoying whitespace problem with the naming \n",
    "hotel_dat.columns = [str(x).strip() for x in hotel_dat.columns]"
   ]
  },
  {
   "cell_type": "code",
   "execution_count": 31,
   "id": "e025f81b",
   "metadata": {},
   "outputs": [
    {
     "data": {
      "text/plain": [
       "countyCode            912\n",
       "countyName              0\n",
       "cityCode                0\n",
       "cityName                0\n",
       "HotelCode               0\n",
       "HotelName               0\n",
       "HotelRating             0\n",
       "Address               102\n",
       "Attractions        525092\n",
       "Description         47005\n",
       "HotelFacilities     50378\n",
       "Map                   930\n",
       "dtype: int64"
      ]
     },
     "execution_count": 31,
     "metadata": {},
     "output_type": "execute_result"
    }
   ],
   "source": [
    "hotel_dat.isnull().sum()"
   ]
  },
  {
   "cell_type": "code",
   "execution_count": null,
   "id": "1280ebe0",
   "metadata": {},
   "outputs": [],
   "source": []
  }
 ],
 "metadata": {
  "kernelspec": {
   "display_name": "hotel_env",
   "language": "python",
   "name": "python3"
  },
  "language_info": {
   "codemirror_mode": {
    "name": "ipython",
    "version": 3
   },
   "file_extension": ".py",
   "mimetype": "text/x-python",
   "name": "python",
   "nbconvert_exporter": "python",
   "pygments_lexer": "ipython3",
   "version": "3.13.2"
  }
 },
 "nbformat": 4,
 "nbformat_minor": 5
}
